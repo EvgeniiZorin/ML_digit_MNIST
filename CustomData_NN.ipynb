{
 "cells": [
  {
   "attachments": {},
   "cell_type": "markdown",
   "metadata": {},
   "source": [
    "# Libraries"
   ]
  },
  {
   "cell_type": "code",
   "execution_count": 25,
   "metadata": {},
   "outputs": [],
   "source": [
    "import os\n",
    "import numpy as np\n",
    "import matplotlib.pyplot as plt\n",
    "\n",
    "from tensorflow.keras.utils import to_categorical\n",
    "from tensorflow.keras.models import Sequential\n",
    "from tensorflow.keras.layers import Dense, Dropout\n",
    "from PIL import Image\n"
   ]
  },
  {
   "attachments": {},
   "cell_type": "markdown",
   "metadata": {},
   "source": [
    "# Starting with custom data\n",
    "\n",
    "White background, black digit."
   ]
  },
  {
   "cell_type": "markdown",
   "metadata": {},
   "source": [
    "## Load data"
   ]
  },
  {
   "cell_type": "code",
   "execution_count": 26,
   "metadata": {},
   "outputs": [
    {
     "name": "stdout",
     "output_type": "stream",
     "text": [
      "Labels to train: ['0', '1', '2', '3', '4', '5', '6', '7', '8', '9']\n",
      "LABELS:\n",
      "<class 'numpy.ndarray'>\n",
      "[0 0 0 1 1 1 1 1 1 2 2 2 3 3 3 4 4 4 4 5 5 5 5 6 6 6 6 7 7 7 7 7 7 8 8 8 8\n",
      " 9 9 9 9]\n",
      "FEATURES:\n",
      "<class 'numpy.ndarray'>\n",
      "Shape: (41, 784)\n",
      "[0.         0.         0.         0.         0.         0.\n",
      " 0.         0.         0.         0.         0.         0.\n",
      " 0.         0.         0.         0.         0.         0.\n",
      " 0.         0.         0.         0.         0.         0.\n",
      " 0.         0.         0.         0.         0.         0.\n",
      " 0.         0.         0.         0.         0.         0.\n",
      " 0.         0.         0.         0.         0.         0.\n",
      " 0.         0.         0.         0.         0.         0.\n",
      " 0.         0.         0.         0.         0.         0.\n",
      " 0.         0.         0.         0.         0.         0.\n",
      " 0.         0.         0.         0.         0.         0.\n",
      " 0.         0.         0.         0.         0.         0.\n",
      " 0.         0.         0.         0.         0.         0.\n",
      " 0.         0.         0.         0.         0.         0.\n",
      " 0.         0.         0.         0.         0.         0.\n",
      " 0.         0.         0.         0.         0.         0.\n",
      " 0.         0.         0.         0.         0.         0.\n",
      " 0.         0.         0.         0.         0.         0.\n",
      " 0.         0.         0.         0.         0.         0.\n",
      " 0.         0.         0.         0.         0.         0.\n",
      " 0.         0.         0.         0.         0.99609375 0.99609375\n",
      " 0.99609375 0.99609375 0.99609375 0.99609375 0.390625   0.\n",
      " 0.         0.         0.         0.         0.         0.\n",
      " 0.         0.         0.         0.         0.         0.\n",
      " 0.         0.         0.         0.         0.         0.625\n",
      " 0.99609375 0.99609375 0.99609375 0.99609375 0.99609375 0.390625\n",
      " 0.99609375 0.99609375 0.99609375 0.99609375 0.         0.\n",
      " 0.         0.         0.         0.         0.         0.\n",
      " 0.         0.         0.         0.         0.         0.\n",
      " 0.         0.         0.99609375 0.99609375 0.99609375 0.390625\n",
      " 0.         0.         0.         0.         0.         0.\n",
      " 0.99609375 0.99609375 0.99609375 0.         0.         0.\n",
      " 0.         0.         0.         0.         0.         0.\n",
      " 0.         0.         0.         0.         0.         0.99609375\n",
      " 0.99609375 0.         0.         0.         0.         0.\n",
      " 0.         0.         0.         0.         0.         0.99609375\n",
      " 0.99609375 0.390625   0.         0.         0.         0.\n",
      " 0.         0.         0.         0.         0.         0.\n",
      " 0.         0.         0.99609375 0.99609375 0.         0.\n",
      " 0.         0.         0.         0.         0.         0.\n",
      " 0.         0.         0.         0.         0.99609375 0.99609375\n",
      " 0.         0.         0.         0.         0.         0.\n",
      " 0.         0.         0.         0.         0.         0.\n",
      " 0.99609375 0.99609375 0.         0.         0.         0.\n",
      " 0.         0.         0.         0.         0.         0.\n",
      " 0.         0.         0.         0.99609375 0.99609375 0.\n",
      " 0.         0.         0.         0.         0.         0.\n",
      " 0.         0.         0.         0.         0.99609375 0.\n",
      " 0.         0.         0.         0.         0.         0.\n",
      " 0.         0.         0.         0.         0.         0.\n",
      " 0.         0.99609375 0.99609375 0.         0.         0.\n",
      " 0.         0.         0.         0.         0.         0.\n",
      " 0.         0.         0.99609375 0.         0.         0.\n",
      " 0.         0.         0.         0.         0.         0.\n",
      " 0.         0.         0.         0.         0.         0.\n",
      " 0.99609375 0.         0.         0.         0.         0.\n",
      " 0.         0.         0.         0.         0.         0.\n",
      " 0.99609375 0.         0.         0.         0.         0.\n",
      " 0.         0.         0.         0.         0.         0.\n",
      " 0.         0.         0.         0.         0.99609375 0.99609375\n",
      " 0.         0.         0.         0.         0.         0.\n",
      " 0.         0.         0.         0.         0.99609375 0.390625\n",
      " 0.         0.         0.         0.         0.         0.\n",
      " 0.         0.         0.         0.         0.         0.\n",
      " 0.         0.         0.99609375 0.99609375 0.         0.\n",
      " 0.         0.         0.         0.         0.         0.\n",
      " 0.         0.         0.99609375 0.99609375 0.         0.\n",
      " 0.         0.         0.         0.         0.         0.\n",
      " 0.         0.         0.         0.         0.         0.\n",
      " 0.         0.99609375 0.         0.         0.         0.\n",
      " 0.         0.         0.         0.         0.         0.\n",
      " 0.99609375 0.99609375 0.         0.         0.         0.\n",
      " 0.         0.         0.         0.         0.         0.\n",
      " 0.         0.         0.         0.         0.390625   0.99609375\n",
      " 0.         0.         0.         0.         0.         0.\n",
      " 0.         0.         0.         0.         0.625      0.99609375\n",
      " 0.         0.         0.         0.         0.         0.\n",
      " 0.         0.         0.         0.         0.         0.\n",
      " 0.         0.         0.625      0.99609375 0.         0.\n",
      " 0.         0.         0.         0.         0.         0.\n",
      " 0.         0.         0.         0.99609375 0.390625   0.\n",
      " 0.         0.         0.         0.         0.         0.\n",
      " 0.         0.         0.         0.         0.         0.\n",
      " 0.99609375 0.99609375 0.         0.         0.         0.\n",
      " 0.         0.         0.         0.         0.         0.\n",
      " 0.         0.99609375 0.99609375 0.         0.         0.\n",
      " 0.         0.         0.         0.         0.         0.\n",
      " 0.         0.         0.         0.         0.99609375 0.390625\n",
      " 0.         0.         0.         0.         0.         0.\n",
      " 0.         0.         0.         0.         0.         0.\n",
      " 0.99609375 0.99609375 0.         0.         0.         0.\n",
      " 0.         0.         0.         0.         0.         0.\n",
      " 0.         0.99609375 0.99609375 0.         0.         0.\n",
      " 0.         0.         0.         0.         0.         0.\n",
      " 0.         0.         0.         0.         0.99609375 0.99609375\n",
      " 0.99609375 0.         0.         0.         0.         0.\n",
      " 0.         0.         0.         0.         0.99609375 0.99609375\n",
      " 0.390625   0.         0.         0.         0.         0.\n",
      " 0.         0.         0.         0.         0.         0.\n",
      " 0.         0.         0.         0.99609375 0.99609375 0.99609375\n",
      " 0.         0.         0.         0.         0.         0.\n",
      " 0.         0.99609375 0.99609375 0.99609375 0.         0.\n",
      " 0.         0.         0.         0.         0.         0.\n",
      " 0.         0.         0.         0.         0.         0.\n",
      " 0.         0.         0.390625   0.99609375 0.99609375 0.99609375\n",
      " 0.5078125  0.1953125  0.         0.99609375 0.99609375 0.99609375\n",
      " 0.99609375 0.         0.         0.         0.         0.\n",
      " 0.         0.         0.         0.         0.         0.\n",
      " 0.         0.         0.         0.         0.         0.\n",
      " 0.         0.         0.99609375 0.99609375 0.99609375 0.99609375\n",
      " 0.99609375 0.99609375 0.99609375 0.         0.         0.\n",
      " 0.         0.         0.         0.         0.         0.\n",
      " 0.         0.         0.         0.         0.         0.\n",
      " 0.         0.         0.         0.         0.         0.\n",
      " 0.         0.         0.390625   0.390625   0.         0.\n",
      " 0.         0.         0.         0.         0.         0.\n",
      " 0.         0.         0.         0.         0.         0.\n",
      " 0.         0.         0.         0.         0.         0.\n",
      " 0.         0.         0.         0.         0.         0.\n",
      " 0.         0.         0.         0.         0.         0.\n",
      " 0.         0.         0.         0.         0.         0.\n",
      " 0.         0.         0.         0.         0.         0.\n",
      " 0.         0.         0.         0.         0.         0.\n",
      " 0.         0.         0.         0.         0.         0.\n",
      " 0.         0.         0.         0.         0.         0.\n",
      " 0.         0.         0.         0.         0.         0.\n",
      " 0.         0.         0.         0.         0.         0.\n",
      " 0.         0.         0.         0.         0.         0.\n",
      " 0.         0.         0.         0.         0.         0.\n",
      " 0.         0.         0.         0.         0.         0.\n",
      " 0.         0.         0.         0.        ]\n"
     ]
    }
   ],
   "source": [
    "def read_image(file_path):\n",
    "\t\"\"\" Read one image from a path \"\"\"\n",
    "\timg = Image.open(file_path)\n",
    "\timg = img.convert(\"L\")\n",
    "\timg = img.resize((28,28))\n",
    "\tdata = list(img.getdata())\n",
    "\tfor i in range(len(data)):\n",
    "\t\tdata[i] = 255 - data[i]\n",
    "\tdata = [data]\n",
    "\tdata = np.array(data)/256\n",
    "\treturn data\n",
    "\n",
    "folders = os.listdir('Media/Train')\n",
    "print(f\"Labels to train: {folders}\")\n",
    "\n",
    "y_total = []\n",
    "x_total = []\n",
    "\n",
    "for i in folders:\n",
    "\timages = os.listdir(f\"Media/Train/{i}\")\n",
    "\tfor j in images:\n",
    "\t\t# Add labels\n",
    "\t\ty_total.append(int(i))\n",
    "\t\t# print(j)\n",
    "\t\timage_data = read_image(f\"Media/Train/{i}/{j}\")\n",
    "\t\tx_total.append(image_data)\n",
    "\n",
    "y_total = np.array(y_total)\n",
    "x_total = np.array(x_total)\n",
    "x_total = np.squeeze(x_total)\n",
    "print('LABELS:')\n",
    "print(type(y_total))\n",
    "print(y_total)\n",
    "print('FEATURES:')\n",
    "print(type(x_total))\n",
    "print(f\"Shape: {x_total.shape}\")\n",
    "print(x_total[1])"
   ]
  },
  {
   "cell_type": "markdown",
   "metadata": {},
   "source": [
    "## Pre-processing"
   ]
  },
  {
   "cell_type": "code",
   "execution_count": 27,
   "metadata": {},
   "outputs": [
    {
     "name": "stdout",
     "output_type": "stream",
     "text": [
      "Before: 0 | shape: ()\n",
      "Before: 0 | shape: ()\n",
      "Before: 0 | shape: ()\n",
      "Before: 1 | shape: ()\n",
      "Before: 1 | shape: ()\n",
      "Before: 1 | shape: ()\n",
      "Before: 1 | shape: ()\n",
      "Before: 1 | shape: ()\n",
      "Before: 1 | shape: ()\n",
      "After: [1. 0. 0. 0. 0. 0. 0. 0. 0. 0.] | shape: (10,)\n",
      "After: [1. 0. 0. 0. 0. 0. 0. 0. 0. 0.] | shape: (10,)\n",
      "After: [1. 0. 0. 0. 0. 0. 0. 0. 0. 0.] | shape: (10,)\n",
      "After: [0. 1. 0. 0. 0. 0. 0. 0. 0. 0.] | shape: (10,)\n",
      "After: [0. 1. 0. 0. 0. 0. 0. 0. 0. 0.] | shape: (10,)\n",
      "After: [0. 1. 0. 0. 0. 0. 0. 0. 0. 0.] | shape: (10,)\n",
      "After: [0. 1. 0. 0. 0. 0. 0. 0. 0. 0.] | shape: (10,)\n",
      "After: [0. 1. 0. 0. 0. 0. 0. 0. 0. 0.] | shape: (10,)\n",
      "After: [0. 1. 0. 0. 0. 0. 0. 0. 0. 0.] | shape: (10,)\n"
     ]
    }
   ],
   "source": [
    "# Process labels as per the special requirements of Tensorflow, \n",
    "# to accommodate for 10 features\n",
    "\n",
    "for i in range(9):\n",
    "\tprint(f\"Before: {y_total[i]} | shape: {y_total[i].shape}\")\n",
    "\n",
    "y_total = to_categorical(y_total, 10)\n",
    "\n",
    "for i in range(9):\n",
    "\tprint(f\"After: {y_total[i]} | shape: {y_total[i].shape}\")"
   ]
  },
  {
   "cell_type": "markdown",
   "metadata": {},
   "source": [
    "## Train"
   ]
  },
  {
   "cell_type": "code",
   "execution_count": 28,
   "metadata": {},
   "outputs": [
    {
     "name": "stdout",
     "output_type": "stream",
     "text": [
      "Model: \"sequential_2\"\n",
      "_________________________________________________________________\n",
      " Layer (type)                Output Shape              Param #   \n",
      "=================================================================\n",
      " dense_3 (Dense)             (None, 128)               100480    \n",
      "                                                                 \n",
      " dropout_2 (Dropout)         (None, 128)               0         \n",
      "                                                                 \n",
      " dense_4 (Dense)             (None, 64)                8256      \n",
      "                                                                 \n",
      " dropout_3 (Dropout)         (None, 64)                0         \n",
      "                                                                 \n",
      " dense_5 (Dense)             (None, 10)                650       \n",
      "                                                                 \n",
      "=================================================================\n",
      "Total params: 109,386\n",
      "Trainable params: 109,386\n",
      "Non-trainable params: 0\n",
      "_________________________________________________________________\n",
      "Epoch 1/15\n",
      "5/5 [==============================] - 1s 3ms/step - loss: 2.4328 - accuracy: 0.0976\n",
      "Epoch 2/15\n",
      "5/5 [==============================] - 0s 4ms/step - loss: 2.0993 - accuracy: 0.3171\n",
      "Epoch 3/15\n",
      "5/5 [==============================] - 0s 6ms/step - loss: 1.8248 - accuracy: 0.6098\n",
      "Epoch 4/15\n",
      "5/5 [==============================] - 0s 3ms/step - loss: 1.5613 - accuracy: 0.8049\n",
      "Epoch 5/15\n",
      "5/5 [==============================] - 0s 4ms/step - loss: 1.3625 - accuracy: 0.8049\n",
      "Epoch 6/15\n",
      "5/5 [==============================] - 0s 4ms/step - loss: 1.1868 - accuracy: 0.8293\n",
      "Epoch 7/15\n",
      "5/5 [==============================] - 0s 6ms/step - loss: 0.9618 - accuracy: 0.9756\n",
      "Epoch 8/15\n",
      "5/5 [==============================] - 0s 1ms/step - loss: 0.8079 - accuracy: 0.9268\n",
      "Epoch 9/15\n",
      "5/5 [==============================] - 0s 2ms/step - loss: 0.7415 - accuracy: 0.9512\n",
      "Epoch 10/15\n",
      "5/5 [==============================] - 0s 2ms/step - loss: 0.5690 - accuracy: 0.9024\n",
      "Epoch 11/15\n",
      "5/5 [==============================] - 0s 2ms/step - loss: 0.4230 - accuracy: 0.9756\n",
      "Epoch 12/15\n",
      "5/5 [==============================] - 0s 2ms/step - loss: 0.3577 - accuracy: 0.9512\n",
      "Epoch 13/15\n",
      "5/5 [==============================] - 0s 2ms/step - loss: 0.2271 - accuracy: 1.0000\n",
      "Epoch 14/15\n",
      "5/5 [==============================] - 0s 2ms/step - loss: 0.1906 - accuracy: 1.0000\n",
      "Epoch 15/15\n",
      "5/5 [==============================] - 0s 2ms/step - loss: 0.1668 - accuracy: 1.0000\n"
     ]
    },
    {
     "data": {
      "text/plain": [
       "<keras.callbacks.History at 0x1b699a32890>"
      ]
     },
     "execution_count": 28,
     "metadata": {},
     "output_type": "execute_result"
    }
   ],
   "source": [
    "# Building the model\n",
    "model = Sequential()\n",
    "model.add(Dense(128, activation='relu', input_shape=(784,))) # 28*28=784\n",
    "model.add(Dropout(.2))\n",
    "model.add(Dense(64, activation='relu'))\n",
    "model.add(Dropout(.2))\n",
    "model.add(Dense(10, activation='softmax')) # Output layer\n",
    "\n",
    "# Compiling the model\n",
    "model.compile(\n",
    "\tloss = 'categorical_crossentropy', \n",
    "\toptimizer='adam', \n",
    "\tmetrics=['accuracy'])\n",
    "model.summary()\n",
    "\n",
    "model.fit( x_total, y_total, epochs=15, batch_size=10 )"
   ]
  },
  {
   "cell_type": "markdown",
   "metadata": {},
   "source": [
    "## Test"
   ]
  },
  {
   "cell_type": "code",
   "execution_count": 29,
   "metadata": {},
   "outputs": [
    {
     "name": "stdout",
     "output_type": "stream",
     "text": [
      "1/1 [==============================] - 0s 89ms/step\n",
      "1_1.png\n",
      "Label: 1 | prediction: [1]\n"
     ]
    },
    {
     "data": {
      "image/png": "[encoded data removed]",
      "text/plain": [
       "<Figure size 216x216 with 1 Axes>"
      ]
     },
     "metadata": {
      "needs_background": "light"
     },
     "output_type": "display_data"
    },
    {
     "name": "stdout",
     "output_type": "stream",
     "text": [
      "1/1 [==============================] - 0s 18ms/step\n",
      "1_2.png\n",
      "Label: 1 | prediction: [1]\n"
     ]
    },
    {
     "data": {
      "image/png": "[encoded data removed]",
      "text/plain": [
       "<Figure size 216x216 with 1 Axes>"
      ]
     },
     "metadata": {
      "needs_background": "light"
     },
     "output_type": "display_data"
    },
    {
     "name": "stdout",
     "output_type": "stream",
     "text": [
      "1/1 [==============================] - 0s 21ms/step\n",
      "Digit_one.png\n",
      "Label: 1 | prediction: [4]\n"
     ]
    },
    {
     "data": {
      "image/png": "[encoded data removed]",
      "text/plain": [
       "<Figure size 216x216 with 1 Axes>"
      ]
     },
     "metadata": {
      "needs_background": "light"
     },
     "output_type": "display_data"
    },
    {
     "name": "stdout",
     "output_type": "stream",
     "text": [
      "1/1 [==============================] - 0s 27ms/step\n",
      "2_1.png\n",
      "Label: 2 | prediction: [2]\n"
     ]
    },
    {
     "data": {
      "image/png": "[encoded data removed]",
      "text/plain": [
       "<Figure size 216x216 with 1 Axes>"
      ]
     },
     "metadata": {
      "needs_background": "light"
     },
     "output_type": "display_data"
    },
    {
     "name": "stdout",
     "output_type": "stream",
     "text": [
      "1/1 [==============================] - 0s 17ms/step\n",
      "Digit_two.png\n",
      "Label: 2 | prediction: [2]\n"
     ]
    },
    {
     "data": {
      "image/png": "[encoded data removed]",
      "text/plain": [
       "<Figure size 216x216 with 1 Axes>"
      ]
     },
     "metadata": {
      "needs_background": "light"
     },
     "output_type": "display_data"
    },
    {
     "name": "stdout",
     "output_type": "stream",
     "text": [
      "1/1 [==============================] - 0s 27ms/step\n",
      "3_1.png\n",
      "Label: 3 | prediction: [3]\n"
     ]
    },
    {
     "data": {
      "image/png": "[encoded data removed]",
      "text/plain": [
       "<Figure size 216x216 with 1 Axes>"
      ]
     },
     "metadata": {
      "needs_background": "light"
     },
     "output_type": "display_data"
    },
    {
     "name": "stdout",
     "output_type": "stream",
     "text": [
      "1/1 [==============================] - 0s 16ms/step\n",
      "Digit_four.png\n",
      "Label: 4 | prediction: [4]\n"
     ]
    },
    {
     "data": {
      "image/png": "[encoded data removed]",
      "text/plain": [
       "<Figure size 216x216 with 1 Axes>"
      ]
     },
     "metadata": {
      "needs_background": "light"
     },
     "output_type": "display_data"
    },
    {
     "name": "stdout",
     "output_type": "stream",
     "text": [
      "1/1 [==============================] - 0s 20ms/step\n",
      "Digit_five (2).png\n",
      "Label: 5 | prediction: [5]\n"
     ]
    },
    {
     "data": {
      "image/png": "[encoded data removed]",
      "text/plain": [
       "<Figure size 216x216 with 1 Axes>"
      ]
     },
     "metadata": {
      "needs_background": "light"
     },
     "output_type": "display_data"
    },
    {
     "name": "stdout",
     "output_type": "stream",
     "text": [
      "1/1 [==============================] - 0s 28ms/step\n",
      "Digit_five.png\n",
      "Label: 5 | prediction: [3]\n"
     ]
    },
    {
     "data": {
      "image/png": "[encoded data removed]",
      "text/plain": [
       "<Figure size 216x216 with 1 Axes>"
      ]
     },
     "metadata": {
      "needs_background": "light"
     },
     "output_type": "display_data"
    }
   ],
   "source": [
    "def read_image(file_path):\n",
    "\t\"\"\" Read one image from a path \"\"\"\n",
    "\timg = Image.open(file_path)\n",
    "\timg = img.convert(\"L\")\n",
    "\timg = img.resize((28,28))\n",
    "\tdata = list(img.getdata())\n",
    "\tfor i in range(len(data)):\n",
    "\t\tdata[i] = 255 - data[i]\n",
    "\tdata = [data]\n",
    "\tdata = np.array(data)/256\n",
    "\treturn data\n",
    "\n",
    "folders = os.listdir('Media/Test')\n",
    "number = 9; counter = 1\n",
    "# fig = plt.figure(figsize=(20,20))\n",
    "for i in folders:\n",
    "\timages = os.listdir(f\"Media/Test/{i}\")\n",
    "\tfor j in images:\n",
    "\t\t# Prediction\n",
    "\t\timage_data = read_image(f\"Media/Test/{i}/{j}\")\n",
    "\t\tpredictions_vector = model.predict(image_data)\n",
    "\t\tpredictions = [ np.argmax(i) for i in predictions_vector ]\n",
    "\t\tpredictions\n",
    "\t\tprint(j)\n",
    "\t\tprint(f\"Label: {i} | prediction: {predictions}\")\n",
    "\t\t# Graph\n",
    "\t\t# fig.add_subplot(1, number, counter, xticks=[], yticks=[])\n",
    "\t\tplt.figure(figsize=(3,3))\n",
    "\t\tplot = image_data.reshape(28,28)\n",
    "\t\tplt.imshow(plot, cmap='Greys')\n",
    "\t\tplt.title(f'Label: {i} | prediction: {predictions}', color='white', size=20)\n",
    "\t\tplt.show()\n",
    "\t\tcounter += 1\n",
    "\n"
   ]
  }
 ],
 "metadata": {
  "kernelspec": {
   "display_name": "Python 3",
   "language": "python",
   "name": "python3"
  },
  "language_info": {
   "codemirror_mode": {
    "name": "ipython",
    "version": 3
   },
   "file_extension": ".py",
   "mimetype": "text/x-python",
   "name": "python",
   "nbconvert_exporter": "python",
   "pygments_lexer": "ipython3",
   "version": "3.10.6"
  },
  "orig_nbformat": 4
 },
 "nbformat": 4,
 "nbformat_minor": 2
}
