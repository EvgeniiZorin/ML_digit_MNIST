{
 "cells": [
  {
   "attachments": {},
   "cell_type": "markdown",
   "metadata": {},
   "source": [
    "# Libraries"
   ]
  },
  {
   "cell_type": "code",
   "execution_count": 33,
   "metadata": {},
   "outputs": [],
   "source": [
    "import os\n",
    "import numpy as np\n",
    "import pandas as pd\n",
    "import matplotlib.pyplot as plt\n",
    "import seaborn as sns\n",
    "from PIL import Image\n",
    "\n",
    "import tensorflow as tf\n"
   ]
  },
  {
   "attachments": {},
   "cell_type": "markdown",
   "metadata": {},
   "source": [
    "# Load data"
   ]
  },
  {
   "cell_type": "code",
   "execution_count": 6,
   "metadata": {},
   "outputs": [
    {
     "name": "stdout",
     "output_type": "stream",
     "text": [
      "(28, 28)\n",
      "(60000, 28, 28)\n"
     ]
    }
   ],
   "source": [
    "(train_images, train_labels), (test_images, test_labels) = tf.keras.datasets.mnist.load_data()\n",
    "\n",
    "print(train_images[0].shape)\n",
    "print(train_images.shape)"
   ]
  },
  {
   "cell_type": "code",
   "execution_count": 54,
   "metadata": {},
   "outputs": [
    {
     "data": {
      "text/plain": [
       "array([5, 0, 4, ..., 5, 6, 8], dtype=uint8)"
      ]
     },
     "execution_count": 54,
     "metadata": {},
     "output_type": "execute_result"
    }
   ],
   "source": [
    "train_labels"
   ]
  },
  {
   "cell_type": "code",
   "execution_count": 55,
   "metadata": {},
   "outputs": [
    {
     "data": {
      "text/plain": [
       "<Axes: ylabel='Count'>"
      ]
     },
     "execution_count": 55,
     "metadata": {},
     "output_type": "execute_result"
    },
    {
     "data": {
      "image/png": "[encoded data removed]",
      "text/plain": [
       "<Figure size 640x480 with 1 Axes>"
      ]
     },
     "metadata": {},
     "output_type": "display_data"
    }
   ],
   "source": [
    "sns.histplot(train_labels)"
   ]
  },
  {
   "cell_type": "code",
   "execution_count": 15,
   "metadata": {},
   "outputs": [
    {
     "name": "stdout",
     "output_type": "stream",
     "text": [
      "(60000, 28, 28, 1)\n",
      "(10000, 28, 28, 1)\n"
     ]
    }
   ],
   "source": [
    "train_images = train_images / 255\n",
    "test_images = test_images / 255\n",
    "\n",
    "# Reshape to create extra dim (1) to be size of color depth of the pixel (grayscale)\n",
    "train_images = train_images.reshape(train_images.shape[0], 28,28,1)\n",
    "test_images = test_images.reshape(test_images.shape[0], 28,28,1)\n",
    "\n",
    "print(train_images.shape)\n",
    "print(test_images.shape)"
   ]
  },
  {
   "cell_type": "code",
   "execution_count": 45,
   "metadata": {},
   "outputs": [
    {
     "name": "stdout",
     "output_type": "stream",
     "text": [
      "Model: \"sequential_8\"\n",
      "_________________________________________________________________\n",
      " Layer (type)                Output Shape              Param #   \n",
      "=================================================================\n",
      " conv2d_8 (Conv2D)           (None, 26, 26, 16)        160       \n",
      "                                                                 \n",
      " max_pooling2d (MaxPooling2D  (None, 13, 13, 16)       0         \n",
      " )                                                               \n",
      "                                                                 \n",
      " flatten_8 (Flatten)         (None, 2704)              0         \n",
      "                                                                 \n",
      " dense_8 (Dense)             (None, 128)               346240    \n",
      "                                                                 \n",
      " dropout (Dropout)           (None, 128)               0         \n",
      "                                                                 \n",
      " dense_9 (Dense)             (None, 10)                1290      \n",
      "                                                                 \n",
      "=================================================================\n",
      "Total params: 347,690\n",
      "Trainable params: 347,690\n",
      "Non-trainable params: 0\n",
      "_________________________________________________________________\n"
     ]
    }
   ],
   "source": [
    "# model = tf.keras.Sequential([\n",
    "#     tf.keras.layers.Conv2D(\n",
    "#         input_shape=(28,28,1), activation='relu',\n",
    "#         kernel_size=3, filters=8\n",
    "#     ),\n",
    "#     tf.keras.layers.Flatten(),\n",
    "#     tf.keras.layers.Dense(10, activation='softmax')\n",
    "# ])\n",
    "\n",
    "model = tf.keras.Sequential([\n",
    "    tf.keras.layers.Conv2D(\n",
    "        input_shape=(28,28,1), activation='relu',\n",
    "        kernel_size=3, filters=16\n",
    "    ),\n",
    "    tf.keras.layers.MaxPool2D((2,2)),\n",
    "    tf.keras.layers.Flatten(),\n",
    "    tf.keras.layers.Dense(128, activation='relu'),\n",
    "    tf.keras.layers.Dropout(0.2),\n",
    "    tf.keras.layers.Dense(10, activation='softmax')\n",
    "])\n",
    "\n",
    "model.summary()"
   ]
  },
  {
   "cell_type": "code",
   "execution_count": 46,
   "metadata": {},
   "outputs": [],
   "source": [
    "model.compile(\n",
    "    loss = 'sparse_categorical_crossentropy',\n",
    "    optimizer='adam',\n",
    "    metrics=['accuracy']\n",
    ")"
   ]
  },
  {
   "cell_type": "code",
   "execution_count": 47,
   "metadata": {},
   "outputs": [
    {
     "name": "stdout",
     "output_type": "stream",
     "text": [
      "Epoch 1/15\n",
      "1875/1875 [==============================] - 15s 8ms/step - loss: 0.1844 - accuracy: 0.9452\n",
      "Epoch 2/15\n",
      "1875/1875 [==============================] - 14s 7ms/step - loss: 0.0678 - accuracy: 0.9790\n",
      "Epoch 3/15\n",
      "1875/1875 [==============================] - 15s 8ms/step - loss: 0.0481 - accuracy: 0.9851\n",
      "Epoch 4/15\n",
      "1875/1875 [==============================] - 14s 8ms/step - loss: 0.0366 - accuracy: 0.9880\n",
      "Epoch 5/15\n",
      "1875/1875 [==============================] - 15s 8ms/step - loss: 0.0283 - accuracy: 0.9907\n",
      "Epoch 6/15\n",
      "1875/1875 [==============================] - 13s 7ms/step - loss: 0.0230 - accuracy: 0.9925\n",
      "Epoch 7/15\n",
      "1875/1875 [==============================] - 14s 8ms/step - loss: 0.0190 - accuracy: 0.9937\n",
      "Epoch 8/15\n",
      "1875/1875 [==============================] - 14s 7ms/step - loss: 0.0173 - accuracy: 0.9941\n",
      "Epoch 9/15\n",
      "1875/1875 [==============================] - 14s 8ms/step - loss: 0.0135 - accuracy: 0.9953\n",
      "Epoch 10/15\n",
      "1875/1875 [==============================] - 14s 8ms/step - loss: 0.0109 - accuracy: 0.9964\n",
      "Epoch 11/15\n",
      "1875/1875 [==============================] - 15s 8ms/step - loss: 0.0107 - accuracy: 0.9965\n",
      "Epoch 12/15\n",
      "1875/1875 [==============================] - 16s 9ms/step - loss: 0.0109 - accuracy: 0.9962\n",
      "Epoch 13/15\n",
      "1875/1875 [==============================] - 24s 13ms/step - loss: 0.0080 - accuracy: 0.9974\n",
      "Epoch 14/15\n",
      "1875/1875 [==============================] - 16s 9ms/step - loss: 0.0089 - accuracy: 0.9968\n",
      "Epoch 15/15\n",
      "1875/1875 [==============================] - 16s 9ms/step - loss: 0.0078 - accuracy: 0.9972\n"
     ]
    },
    {
     "data": {
      "text/plain": [
       "<keras.callbacks.History at 0x12510d3c040>"
      ]
     },
     "execution_count": 47,
     "metadata": {},
     "output_type": "execute_result"
    }
   ],
   "source": [
    "history = model.fit( train_images, train_labels, epochs=15)"
   ]
  },
  {
   "cell_type": "code",
   "execution_count": null,
   "metadata": {},
   "outputs": [],
   "source": [
    "history"
   ]
  },
  {
   "attachments": {},
   "cell_type": "markdown",
   "metadata": {},
   "source": [
    "# Test"
   ]
  },
  {
   "cell_type": "code",
   "execution_count": 48,
   "metadata": {},
   "outputs": [
    {
     "data": {
      "text/plain": [
       "(10000, 28, 28, 1)"
      ]
     },
     "execution_count": 48,
     "metadata": {},
     "output_type": "execute_result"
    }
   ],
   "source": [
    "test_images.shape"
   ]
  },
  {
   "cell_type": "code",
   "execution_count": 52,
   "metadata": {},
   "outputs": [
    {
     "name": "stdout",
     "output_type": "stream",
     "text": [
      "313/313 [==============================] - 1s 3ms/step - loss: 0.0490 - accuracy: 0.9876\n",
      "Test accuracy: 0.988\n"
     ]
    }
   ],
   "source": [
    "score = model.evaluate( test_images, test_labels )\n",
    "print(f\"Test accuracy: {score[1]:.3f}\")\n"
   ]
  },
  {
   "cell_type": "code",
   "execution_count": 53,
   "metadata": {},
   "outputs": [
    {
     "name": "stdout",
     "output_type": "stream",
     "text": [
      "(28, 28, 1)\n",
      "1/1 [==============================] - 0s 23ms/step\n",
      "1_1.png\n",
      "Label: 1 | prediction: [4]\n"
     ]
    },
    {
     "data": {
      "image/png": "[encoded data removed]",
      "text/plain": [
       "<Figure size 300x300 with 1 Axes>"
      ]
     },
     "metadata": {},
     "output_type": "display_data"
    },
    {
     "name": "stdout",
     "output_type": "stream",
     "text": [
      "(28, 28, 1)\n",
      "1/1 [==============================] - 0s 21ms/step\n",
      "1_2.png\n",
      "Label: 1 | prediction: [1]\n"
     ]
    },
    {
     "data": {
      "image/png": "[encoded data removed]",
      "text/plain": [
       "<Figure size 300x300 with 1 Axes>"
      ]
     },
     "metadata": {},
     "output_type": "display_data"
    },
    {
     "name": "stdout",
     "output_type": "stream",
     "text": [
      "(28, 28, 1)\n",
      "1/1 [==============================] - 0s 23ms/step\n",
      "Digit_one.png\n",
      "Label: 1 | prediction: [7]\n"
     ]
    },
    {
     "data": {
      "image/png": "[encoded data removed]",
      "text/plain": [
       "<Figure size 300x300 with 1 Axes>"
      ]
     },
     "metadata": {},
     "output_type": "display_data"
    },
    {
     "name": "stdout",
     "output_type": "stream",
     "text": [
      "(28, 28, 1)\n",
      "1/1 [==============================] - 0s 19ms/step\n",
      "2_1.png\n",
      "Label: 2 | prediction: [2]\n"
     ]
    },
    {
     "data": {
      "image/png": "[encoded data removed]",
      "text/plain": [
       "<Figure size 300x300 with 1 Axes>"
      ]
     },
     "metadata": {},
     "output_type": "display_data"
    },
    {
     "name": "stdout",
     "output_type": "stream",
     "text": [
      "(28, 28, 1)\n",
      "1/1 [==============================] - 0s 25ms/step\n",
      "Digit_two.png\n",
      "Label: 2 | prediction: [2]\n"
     ]
    },
    {
     "data": {
      "image/png": "[encoded data removed]",
      "text/plain": [
       "<Figure size 300x300 with 1 Axes>"
      ]
     },
     "metadata": {},
     "output_type": "display_data"
    },
    {
     "name": "stdout",
     "output_type": "stream",
     "text": [
      "(28, 28, 1)\n",
      "1/1 [==============================] - 0s 17ms/step\n",
      "3_1.png\n",
      "Label: 3 | prediction: [3]\n"
     ]
    },
    {
     "data": {
      "image/png": "[encoded data removed]",
      "text/plain": [
       "<Figure size 300x300 with 1 Axes>"
      ]
     },
     "metadata": {},
     "output_type": "display_data"
    },
    {
     "name": "stdout",
     "output_type": "stream",
     "text": [
      "(28, 28, 1)\n",
      "1/1 [==============================] - 0s 24ms/step\n",
      "Digit_four.png\n",
      "Label: 4 | prediction: [4]\n"
     ]
    },
    {
     "data": {
      "image/png": "[encoded data removed]",
      "text/plain": [
       "<Figure size 300x300 with 1 Axes>"
      ]
     },
     "metadata": {},
     "output_type": "display_data"
    },
    {
     "name": "stdout",
     "output_type": "stream",
     "text": [
      "(28, 28, 1)\n",
      "1/1 [==============================] - 0s 19ms/step\n",
      "Digit_five (2).png\n",
      "Label: 5 | prediction: [5]\n"
     ]
    },
    {
     "data": {
      "image/png": "[encoded data removed]",
      "text/plain": [
       "<Figure size 300x300 with 1 Axes>"
      ]
     },
     "metadata": {},
     "output_type": "display_data"
    },
    {
     "name": "stdout",
     "output_type": "stream",
     "text": [
      "(28, 28, 1)\n",
      "1/1 [==============================] - 0s 22ms/step\n",
      "Digit_five.png\n",
      "Label: 5 | prediction: [3]\n"
     ]
    },
    {
     "data": {
      "image/png": "[encoded data removed]",
      "text/plain": [
       "<Figure size 300x300 with 1 Axes>"
      ]
     },
     "metadata": {},
     "output_type": "display_data"
    }
   ],
   "source": [
    "# # We can also load some custom images to test\n",
    "\n",
    "def read_image(file_path):\n",
    "\t\"\"\" Read one image from a path \"\"\"\n",
    "\timg = Image.open(file_path)\n",
    "\timg = img.convert(\"L\")\n",
    "\timg = img.resize((28,28))\n",
    "\t# data = list(img.getdata())\n",
    "\t# print(type(data))\n",
    "\timg = np.array(img)\n",
    "\tdata = img.reshape(28,28,1)\n",
    "\tprint(data.shape)\n",
    "\tdata = img\n",
    "\tfor i in range(len(data)):\n",
    "\t\tdata[i] = 255 - data[i]\n",
    "\tdata = [data]\n",
    "\tdata = np.array(data)/256\n",
    "\treturn data\n",
    "\n",
    "folders = os.listdir('Media/Test')\n",
    "number = 9; counter = 1\n",
    "# fig = plt.figure(figsize=(20,20))\n",
    "for i in folders:\n",
    "\timages = os.listdir(f\"Media/Test/{i}\")\n",
    "\tfor j in images:\n",
    "\t\t# Prediction\n",
    "\t\timage_data = read_image(f\"Media/Test/{i}/{j}\")\n",
    "\t\tpredictions_vector = model.predict(image_data)\n",
    "\t\tpredictions = [ np.argmax(i) for i in predictions_vector ]\n",
    "\t\tpredictions\n",
    "\t\tprint(j)\n",
    "\t\tprint(f\"Label: {i} | prediction: {predictions}\")\n",
    "\t\t# Graph\n",
    "\t\t# fig.add_subplot(1, number, counter, xticks=[], yticks=[])\n",
    "\t\tplt.figure(figsize=(3,3))\n",
    "\t\tplot = image_data.reshape(28,28)\n",
    "\t\tplt.imshow(plot, cmap='Greys')\n",
    "\t\tplt.title(f'Label: {i} | prediction: {predictions}', color='white', size=20)\n",
    "\t\tplt.show()\n",
    "\t\tcounter += 1"
   ]
  }
 ],
 "metadata": {
  "kernelspec": {
   "display_name": "ML",
   "language": "python",
   "name": "python3"
  },
  "language_info": {
   "codemirror_mode": {
    "name": "ipython",
    "version": 3
   },
   "file_extension": ".py",
   "mimetype": "text/x-python",
   "name": "python",
   "nbconvert_exporter": "python",
   "pygments_lexer": "ipython3",
   "version": "3.9.16"
  },
  "orig_nbformat": 4
 },
 "nbformat": 4,
 "nbformat_minor": 2
}
